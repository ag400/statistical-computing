{
 "cells": [
  {
   "cell_type": "markdown",
   "metadata": {},
   "source": [
    "For this first set of exercises, we want to practice using only Python standard libaries. In particular, do not include `numpy`. Use `math` and `random` instead."
   ]
  },
  {
   "cell_type": "markdown",
   "metadata": {},
   "source": [
    "# Python data types, collections and flow control"
   ]
  },
  {
   "cell_type": "markdown",
   "metadata": {},
   "source": [
    "**1**. Make a list of the first 10 odd square numbers. (10 points)"
   ]
  },
  {
   "cell_type": "code",
   "execution_count": 3,
   "metadata": {},
   "outputs": [
    {
     "name": "stdout",
     "output_type": "stream",
     "text": [
      "[1, 9, 25, 49, 81, 121, 169, 225, 289, 361]\n"
     ]
    }
   ],
   "source": [
    "L1 = list(range(1, 21))\n",
    "odd_sq = [e * e for e in L1 if e % 2 != 0]\n",
    "print(odd_sq)"
   ]
  },
  {
   "cell_type": "markdown",
   "metadata": {},
   "source": [
    "**2**. Some code is given below to generate two long lists of random interges. Find the integers present in both lists. (10 points)"
   ]
  },
  {
   "cell_type": "code",
   "execution_count": 4,
   "metadata": {},
   "outputs": [],
   "source": [
    "import random\n",
    "\n",
    "random.seed(123)\n",
    "\n",
    "lower = 0\n",
    "upper = 100000\n",
    "n = 1000\n",
    "\n",
    "x = [random.randint(lower, upper) for i in range(n)]\n",
    "y = [random.randint(lower, upper) for i in range(n)]"
   ]
  },
  {
   "cell_type": "code",
   "execution_count": 8,
   "metadata": {},
   "outputs": [
    {
     "data": {
      "text/plain": [
       "{2137, 8420, 8509, 18836, 25227, 35160, 49492, 56780, 59512, 88500, 99469}"
      ]
     },
     "execution_count": 8,
     "metadata": {},
     "output_type": "execute_result"
    }
   ],
   "source": [
    "x1 = set(x)\n",
    "x2 = set(y)\n",
    "x1.intersection(x2)"
   ]
  },
  {
   "cell_type": "markdown",
   "metadata": {},
   "source": [
    "**3**. Make a list of the first 100 [triangular numbers](https://en.wikipedia.org/wiki/Triangular_number) starting from 0. (20 points)"
   ]
  },
  {
   "cell_type": "code",
   "execution_count": 1,
   "metadata": {},
   "outputs": [
    {
     "name": "stdout",
     "output_type": "stream",
     "text": [
      "[0.0, 1.0, 3.0, 6.0, 10.0, 15.0, 21.0, 28.0, 36.0, 45.0, 55.0, 66.0, 78.0, 91.0, 105.0, 120.0, 136.0, 153.0, 171.0, 190.0, 210.0, 231.0, 253.0, 276.0, 300.0, 325.0, 351.0, 378.0, 406.0, 435.0, 465.0, 496.0, 528.0, 561.0, 595.0, 630.0, 666.0, 703.0, 741.0, 780.0, 820.0, 861.0, 903.0, 946.0, 990.0, 1035.0, 1081.0, 1128.0, 1176.0, 1225.0, 1275.0, 1326.0, 1378.0, 1431.0, 1485.0, 1540.0, 1596.0, 1653.0, 1711.0, 1770.0, 1830.0, 1891.0, 1953.0, 2016.0, 2080.0, 2145.0, 2211.0, 2278.0, 2346.0, 2415.0, 2485.0, 2556.0, 2628.0, 2701.0, 2775.0, 2850.0, 2926.0, 3003.0, 3081.0, 3160.0, 3240.0, 3321.0, 3403.0, 3486.0, 3570.0, 3655.0, 3741.0, 3828.0, 3916.0, 4005.0, 4095.0, 4186.0, 4278.0, 4371.0, 4465.0, 4560.0, 4656.0, 4753.0, 4851.0, 4950.0]\n"
     ]
    }
   ],
   "source": [
    "L2 = range(0, 100)\n",
    "tri_num = [(e+1)*e/2 for e in L2]\n",
    "print(tri_num)"
   ]
  },
  {
   "cell_type": "code",
   "execution_count": 3,
   "metadata": {},
   "outputs": [
    {
     "data": {
      "text/plain": [
       "array([   0,    1,    3,    6,   10,   15,   21,   28,   36,   45,   55,\n",
       "         66,   78,   91,  105,  120,  136,  153,  171,  190,  210,  231,\n",
       "        253,  276,  300,  325,  351,  378,  406,  435,  465,  496,  528,\n",
       "        561,  595,  630,  666,  703,  741,  780,  820,  861,  903,  946,\n",
       "        990, 1035, 1081, 1128, 1176, 1225, 1275, 1326, 1378, 1431, 1485,\n",
       "       1540, 1596, 1653, 1711, 1770, 1830, 1891, 1953, 2016, 2080, 2145,\n",
       "       2211, 2278, 2346, 2415, 2485, 2556, 2628, 2701, 2775, 2850, 2926,\n",
       "       3003, 3081, 3160, 3240, 3321, 3403, 3486, 3570, 3655, 3741, 3828,\n",
       "       3916, 4005, 4095, 4186, 4278, 4371, 4465, 4560, 4656, 4753, 4851,\n",
       "       4950])"
      ]
     },
     "execution_count": 3,
     "metadata": {},
     "output_type": "execute_result"
    }
   ],
   "source": [
    "import numpy as np\n",
    "np.arange(100).cumsum()"
   ]
  },
  {
   "cell_type": "markdown",
   "metadata": {},
   "source": [
    "**4**. A DNA seqeunce is provided below. It should be treated as a single seqeunce - it is borken into multiple lines for display purposes.\n",
    "\n",
    "- Find the ratio of the base 'G' to the base 'C'\n",
    "- What is the reverse complement of the DNA sequence? (The complementary bases are A=T, C=G)\n",
    "- Make a dictionary of counts for each letter in the sequence. Do not count the newline character.\n",
    "\n",
    "(20 points)"
   ]
  },
  {
   "cell_type": "code",
   "execution_count": 3,
   "metadata": {},
   "outputs": [],
   "source": [
    "dna = \"\"\"\n",
    "TTTAAATTCCCTGGCACCCGCTGGAGTTCTCGATTTCGAC\n",
    "CAACCACGACGGTGTGATTCTGAATGTAGTTAGTATCTAC\n",
    "CCAGAGCTCAGGTCATATCGCGCCAAGCATAAAGGTGGCT\n",
    "GTTGAAAGTCGATGTCCGTATAAGTTCCGTTTCCTAATGA\n",
    "AACTGCTACGTAAGTCTAAAGTTATGAGCGCGGGCCGGGT\n",
    "TAAGGAAGCCCTACGGTTACTATATTACGCCAATATTTCT\n",
    "CATTCCCTTGCTTTGTTGATTAGGACAGAGGTCACCACAC\n",
    "CCGGAAGCCCGGTTCACGAGCTCCATCCAACGAGCCTTGC\n",
    "GAGGTATCGAGCAAACCAATATACTGCTAGGATCCGGTCT\n",
    "GGCGTTTTACCCCCATGAGATATAGTCCAGGTACTAAAAC\n",
    "CCTTCACCAGGGCAGAAGCGGGGTATACGCTGCCTACTCG\n",
    "TCATACAATTTCGGCTGGAGTTCGGTACGATAGACCGAGT\n",
    "CTGTCGGATACCCGGAAGAGTCACTCTGAAGTTGTACGAG\n",
    "GTGACTAGCTCAAAAGGAAGGGCGAAGAATGGTATGGTAC\n",
    "TCTAGAGCAGGCCATCTTTTACATAGGGCCCTTTGTTACC\n",
    "TTATGTAATGAACGTGGGAGCCCCGGACGTAAATTCTTTA\n",
    "GTCTCCCTAGACGCGTGGTCCCCACTAAATATACATGGTG\n",
    "AGCATCGCAGATACATGGCTTATCGAGGCCCGGGTCGTCA\n",
    "GAAAACGCGGTAAGTCATACGCATGTGCGGCGAATTAGCT\n",
    "TAGGGTGCGCATCTTCAAGCGGAAGTTCCCCCCGAGTGTC\n",
    "GACGCGTTCGTGCCATTAAAGCGTCTTCGAGTACGAATTA\n",
    "GACCAAGTCTGACGAAATTGCCTGAAGTTATAGGGGAAGT\n",
    "AGTCGAAGGGGACGGAGAACTTGTGAATCATAGCGCATGA\n",
    "GGAGATTAAGTCGGTTCATCAGCGTAACCACTTTAACCAC\n",
    "TAGTACGACCCCTGGATGAGTATTGTTCGTGTGTTTCCTC\n",
    "\"\"\""
   ]
  },
  {
   "cell_type": "code",
   "execution_count": 4,
   "metadata": {},
   "outputs": [
    {
     "name": "stdout",
     "output_type": "stream",
     "text": [
      "1.0886075949367089\n"
     ]
    }
   ],
   "source": [
    "from collections import Counter\n",
    "d = dna.replace('\\n', '')\n",
    "frequency = Counter(d)\n",
    "#print ratio of G to C\n",
    "print(frequency['G']/frequency['C'])\n"
   ]
  },
  {
   "cell_type": "code",
   "execution_count": 5,
   "metadata": {},
   "outputs": [
    {
     "data": {
      "text/plain": [
       "'GAGGAAACACACGAACAATACTCATCCAGGGGTCGTACTAGTGGTTAAAGTGGTTACGCTGATGAACCGACTTAATCTCCTCATGCGCTATGATTCACAAGTTCTCCGTCCCCTTCGACTACTTCCCCTATAACTTCAGGCAATTTCGTCAGACTTGGTCTAATTCGTACTCGAAGACGCTTTAATGGCACGAACGCGTCGACACTCGGGGGGAACTTCCGCTTGAAGATGCGCACCCTAAGCTAATTCGCCGCACATGCGTATGACTTACCGCGTTTTCTGACGACCCGGGCCTCGATAAGCCATGTATCTGCGATGCTCACCATGTATATTTAGTGGGGACCACGCGTCTAGGGAGACTAAAGAATTTACGTCCGGGGCTCCCACGTTCATTACATAAGGTAACAAAGGGCCCTATGTAAAAGATGGCCTGCTCTAGAGTACCATACCATTCTTCGCCCTTCCTTTTGAGCTAGTCACCTCGTACAACTTCAGAGTGACTCTTCCGGGTATCCGACAGACTCGGTCTATCGTACCGAACTCCAGCCGAAATTGTATGACGAGTAGGCAGCGTATACCCCGCTTCTGCCCTGGTGAAGGGTTTTAGTACCTGGACTATATCTCATGGGGGTAAAACGCCAGACCGGATCCTAGCAGTATATTGGTTTGCTCGATACCTCGCAAGGCTCGTTGGATGGAGCTCGTGAACCGGGCTTCCGGGTGTGGTGACCTCTGTCCTAATCAACAAAGCAAGGGAATGAGAAATATTGGCGTAATATAGTAACCGTAGGGCTTCCTTAACCCGGCCCGCGCTCATAACTTTAGACTTACGTAGCAGTTTCATTAGGAAACGGAACTTATACGGACATCGACTTTCAACAGCCACCTTTATGCTTGGCGCGATATGACCTGAGCTCTGGGTAGATACTAACTACATTCAGAATCACACCGTCGTGGTTGGTCGAAATCGAGAACTCCAGCGGGTGCCAGGGAATTTAAA'"
      ]
     },
     "execution_count": 5,
     "metadata": {},
     "output_type": "execute_result"
    }
   ],
   "source": [
    "answer = []\n",
    "complement = {'A':'T', 'T':'A', 'G':'C', 'C':'G', '':'', '\\n':'\\n'}\n",
    "for nucleotide in d:\n",
    "    answer.append(complement[nucleotide])\n",
    "#the reverse complement of the DNA sequence from 5' to 3'\n",
    "''.join(answer[::-1])"
   ]
  },
  {
   "cell_type": "code",
   "execution_count": 6,
   "metadata": {},
   "outputs": [
    {
     "name": "stdout",
     "output_type": "stream",
     "text": [
      "Counter({'G': 258, 'A': 254, 'T': 251, 'C': 237})\n"
     ]
    }
   ],
   "source": [
    "del frequency['\\n']\n",
    "print(frequency)"
   ]
  },
  {
   "cell_type": "markdown",
   "metadata": {},
   "source": [
    "**5**. Buffon's needle is a mathematical thought experiment.\n",
    "\n",
    "Suppose there exist an infinite number of equally spaced parallel lines, and we were to randomly toss a needle whose length is less than or equal to the distance between adjacent lines. What is the probability that the needle will cross a line? The formula is \n",
    "$P = \\frac{2L}{\\pi D}$, where $D$ is the distance between two adjacent lines, and $L$ is the length of the needle.\n",
    "\n",
    "[Source: Wikipedia](https://en.wikipedia.org/wiki/Buffon%27s_noodle)\n",
    "\n",
    "Use a Monte Carlo simulaiton and elemntary trignometry to esitmate $\\pi$ using Buffon's needle by dropping 1 million  needles. (40 points)"
   ]
  },
  {
   "cell_type": "code",
   "execution_count": 10,
   "metadata": {},
   "outputs": [
    {
     "name": "stdout",
     "output_type": "stream",
     "text": [
      "3.140259699477147\n"
     ]
    }
   ],
   "source": [
    "import math\n",
    "import random\n",
    "#perform Monte Carlo simulation considering the simplest case: L=D\n",
    "def Buffon_needle(L, D, n):\n",
    "    '''This function return the number of hits of the parallel lines\n",
    "    parameters include the length of the needle L, distance between two adjacent lines D,\n",
    "    and needles dropped on the lines n\n",
    "    ''' \n",
    "    hits = 0\n",
    "    for i in range(n):\n",
    "        theta = np.random.uniform(0, math.pi/2, n)\n",
    "        if  math.sin(theta) > 1 - random.random(): \n",
    "            hits += 1\n",
    "    prob=hits/n    \n",
    "    return 2*L/(D*prob)\n",
    "\n",
    "random.seed(123)\n",
    "print(Buffon_needle(6, 6, 1000000))"
   ]
  }
 ],
 "metadata": {
  "kernelspec": {
   "display_name": "Python 3",
   "language": "python",
   "name": "python3"
  },
  "language_info": {
   "codemirror_mode": {
    "name": "ipython",
    "version": 3
   },
   "file_extension": ".py",
   "mimetype": "text/x-python",
   "name": "python",
   "nbconvert_exporter": "python",
   "pygments_lexer": "ipython3",
   "version": "3.6.3"
  }
 },
 "nbformat": 4,
 "nbformat_minor": 2
}
