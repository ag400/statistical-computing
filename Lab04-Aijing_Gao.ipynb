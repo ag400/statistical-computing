{
 "cells": [
  {
   "cell_type": "markdown",
   "metadata": {},
   "source": [
    "**Brief Honor Code**. Do the homework on your own. You may discuss ideas with your classmates, but DO NOT copy the solutions from someone else or the Internet. If stuck, discuss with TA."
   ]
  },
  {
   "cell_type": "code",
   "execution_count": 239,
   "metadata": {},
   "outputs": [],
   "source": [
    "%matplotlib inline\n",
    "\n",
    "import matplotlib.pyplot as plt\n",
    "import numpy as np\n",
    "import pandas as pd\n",
    "import string\n",
    "import toolz as tz\n",
    "import seaborn as sns"
   ]
  },
  {
   "cell_type": "markdown",
   "metadata": {},
   "source": [
    "**1**. (10 points)\n",
    "\n",
    "Write a function `pdsist(xs)` which returns a matrix of the pairwise distance between the collection of vectors in `xs` using Euclidean distance.\n",
    "\n",
    "Recall that Euclidean distance between two vectors $x$ and $y$ is\n",
    "\n",
    "$$\n",
    "d(x, y) = \\sqrt{\\sum{(y-x)^2}}\n",
    "$$ \n",
    "\n",
    "Find the square distance matrix for\n",
    "```python\n",
    "xs = np.array([[0.20981496, 0.54777461, 0.9398527 ],\n",
    "       [0.63149939, 0.935947  , 0.29834026],\n",
    "       [0.46302941, 0.25515557, 0.0698739 ],\n",
    "       [0.38192644, 0.42378508, 0.26055664],\n",
    "       [0.46307302, 0.05943961, 0.60204931]])\n",
    "```\n",
    "\n",
    "Do this **without** using any for loops."
   ]
  },
  {
   "cell_type": "code",
   "execution_count": 134,
   "metadata": {},
   "outputs": [
    {
     "data": {
      "text/plain": [
       "array([[ 0.        ,  0.86025216,  0.9521589 ,  0.71164521,  0.64553997],\n",
       "       [ 0.86025216,  0.        ,  0.73760151,  0.57098519,  0.9428    ],\n",
       "       [ 0.9521589 ,  0.73760151,  0.        ,  0.26715821,  0.56702329],\n",
       "       [ 0.71164521,  0.57098519,  0.26715821,  0.        ,  0.50591465],\n",
       "       [ 0.64553997,  0.9428    ,  0.56702329,  0.50591465,  0.        ]])"
      ]
     },
     "execution_count": 134,
     "metadata": {},
     "output_type": "execute_result"
    }
   ],
   "source": [
    "def pdsist(xs):\n",
    "    \"\"\"This function returns a matrix of \n",
    "    the pairwise distance of xs\"\"\"\n",
    "    return np.sum((xs[None,:] - xs[:, None])**2, -1)**0.5\n",
    "    \n",
    "xs = np.array([[0.20981496, 0.54777461, 0.9398527 ],\n",
    "       [0.63149939, 0.935947  , 0.29834026],\n",
    "       [0.46302941, 0.25515557, 0.0698739 ],\n",
    "       [0.38192644, 0.42378508, 0.26055664],\n",
    "       [0.46307302, 0.05943961, 0.60204931]])\n",
    "\n",
    "pdsist(xs)"
   ]
  },
  {
   "cell_type": "markdown",
   "metadata": {},
   "source": [
    "**2**. (20 points)\n",
    "\n",
    "Wikipedia gives this algorithm for finding prime numbers\n",
    "\n",
    "To find all the prime numbers less than or equal to a given integer n by Eratosthenes' method:\n",
    "\n",
    "- Create a list of consecutive integers from 2 through n: (2, 3, 4, ..., n).\n",
    "- Initially, let p equal 2, the smallest prime number.\n",
    "- Enumerate the multiples of p by counting to n from 2p in increments of p, and mark them in the list (these will be 2p, 3p, 4p, ...; the p itself should not be marked).\n",
    "- Find the first number greater than p in the list that is not marked. If there was no such number, stop. Otherwise, let p now equal this new number (which is the next prime), and repeat from step 3.\n",
    "- When the algorithm terminates, the numbers remaining not marked in the list are all the primes below n.\n",
    "\n",
    "Find all primes less than 1,000 using this method.\n",
    "\n",
    "- You may use `numpy` and do not have to follow the algorithm exactly if you can achieve the same results."
   ]
  },
  {
   "cell_type": "code",
   "execution_count": 135,
   "metadata": {},
   "outputs": [
    {
     "data": {
      "text/plain": [
       "array([  2,   3,   5,   7,  11,  13,  17,  19,  23,  29,  31,  37,  41,\n",
       "        43,  47,  53,  59,  61,  67,  71,  73,  79,  83,  89,  97, 101,\n",
       "       103, 107, 109, 113, 127, 131, 137, 139, 149, 151, 157, 163, 167,\n",
       "       173, 179, 181, 191, 193, 197, 199, 211, 223, 227, 229, 233, 239,\n",
       "       241, 251, 257, 263, 269, 271, 277, 281, 283, 293, 307, 311, 313,\n",
       "       317, 331, 337, 347, 349, 353, 359, 367, 373, 379, 383, 389, 397,\n",
       "       401, 409, 419, 421, 431, 433, 439, 443, 449, 457, 461, 463, 467,\n",
       "       479, 487, 491, 499, 503, 509, 521, 523, 541, 547, 557, 563, 569,\n",
       "       571, 577, 587, 593, 599, 601, 607, 613, 617, 619, 631, 641, 643,\n",
       "       647, 653, 659, 661, 673, 677, 683, 691, 701, 709, 719, 727, 733,\n",
       "       739, 743, 751, 757, 761, 769, 773, 787, 797, 809, 811, 821, 823,\n",
       "       827, 829, 839, 853, 857, 859, 863, 877, 881, 883, 887, 907, 911,\n",
       "       919, 929, 937, 941, 947, 953, 967, 971, 977, 983, 991, 997])"
      ]
     },
     "execution_count": 135,
     "metadata": {},
     "output_type": "execute_result"
    }
   ],
   "source": [
    "\n",
    "def findprime(n, p=2):\n",
    "    \"\"\"find prime numbers using Eratosthenes method\"\"\"\n",
    "    primes = np.ones(n+1, dtype = bool)\n",
    "    for i in np.arange(2, n**0.5+1, dtype = np.uint32):\n",
    "        if primes[i]:\n",
    "            primes[i**2::i] = False\n",
    "    return np.nonzero(primes)[0][2:]\n",
    "\n",
    "#find prime of first 1000 numbers.\n",
    "findprime(1000)"
   ]
  },
  {
   "cell_type": "markdown",
   "metadata": {},
   "source": [
    "**3**. (20 points)\n",
    "\n",
    "- Load the `iris` data set from R into a `pandas` DataFrame and create a new DataFrame `iris_scaled` where each feature (column) has zero mean and unit standard deviation (5)\n",
    "- Calculate a pairwise distance matrix (using Euclidean distance) of the normalized features for each flower using the function you wrote in **1** (5)\n",
    "- Using `seaborn`, plot a `clustermap` of the original `iris` data, with row color labels for the Species (5)\n",
    "![clustermap](figs/iris_clustermap.png) \n",
    "- Using a single `seaborn` function, make a 2 by 2 grid of boxplots for each feature to compare across iris species. The y-axis scale need not be the same across subplots. (5)\n",
    "![boxplots](figs/iris_boxplots.png)"
   ]
  },
  {
   "cell_type": "code",
   "execution_count": 240,
   "metadata": {},
   "outputs": [
    {
     "data": {
      "text/html": [
       "<div>\n",
       "<style scoped>\n",
       "    .dataframe tbody tr th:only-of-type {\n",
       "        vertical-align: middle;\n",
       "    }\n",
       "\n",
       "    .dataframe tbody tr th {\n",
       "        vertical-align: top;\n",
       "    }\n",
       "\n",
       "    .dataframe thead th {\n",
       "        text-align: right;\n",
       "    }\n",
       "</style>\n",
       "<table border=\"1\" class=\"dataframe\">\n",
       "  <thead>\n",
       "    <tr style=\"text-align: right;\">\n",
       "      <th></th>\n",
       "      <th>Sepal.Length</th>\n",
       "      <th>Sepal.Width</th>\n",
       "      <th>Petal.Length</th>\n",
       "      <th>Petal.Width</th>\n",
       "    </tr>\n",
       "  </thead>\n",
       "  <tbody>\n",
       "    <tr>\n",
       "      <th>0</th>\n",
       "      <td>-0.897674</td>\n",
       "      <td>1.015602</td>\n",
       "      <td>-1.335752</td>\n",
       "      <td>-1.311052</td>\n",
       "    </tr>\n",
       "    <tr>\n",
       "      <th>1</th>\n",
       "      <td>-1.139200</td>\n",
       "      <td>-0.131539</td>\n",
       "      <td>-1.335752</td>\n",
       "      <td>-1.311052</td>\n",
       "    </tr>\n",
       "    <tr>\n",
       "      <th>2</th>\n",
       "      <td>-1.380727</td>\n",
       "      <td>0.327318</td>\n",
       "      <td>-1.392399</td>\n",
       "      <td>-1.311052</td>\n",
       "    </tr>\n",
       "    <tr>\n",
       "      <th>3</th>\n",
       "      <td>-1.501490</td>\n",
       "      <td>0.097889</td>\n",
       "      <td>-1.279104</td>\n",
       "      <td>-1.311052</td>\n",
       "    </tr>\n",
       "    <tr>\n",
       "      <th>4</th>\n",
       "      <td>-1.018437</td>\n",
       "      <td>1.245030</td>\n",
       "      <td>-1.335752</td>\n",
       "      <td>-1.311052</td>\n",
       "    </tr>\n",
       "    <tr>\n",
       "      <th>5</th>\n",
       "      <td>-0.535384</td>\n",
       "      <td>1.933315</td>\n",
       "      <td>-1.165809</td>\n",
       "      <td>-1.048667</td>\n",
       "    </tr>\n",
       "    <tr>\n",
       "      <th>6</th>\n",
       "      <td>-1.501490</td>\n",
       "      <td>0.786174</td>\n",
       "      <td>-1.335752</td>\n",
       "      <td>-1.179859</td>\n",
       "    </tr>\n",
       "    <tr>\n",
       "      <th>7</th>\n",
       "      <td>-1.018437</td>\n",
       "      <td>0.786174</td>\n",
       "      <td>-1.279104</td>\n",
       "      <td>-1.311052</td>\n",
       "    </tr>\n",
       "    <tr>\n",
       "      <th>8</th>\n",
       "      <td>-1.743017</td>\n",
       "      <td>-0.360967</td>\n",
       "      <td>-1.335752</td>\n",
       "      <td>-1.311052</td>\n",
       "    </tr>\n",
       "    <tr>\n",
       "      <th>9</th>\n",
       "      <td>-1.139200</td>\n",
       "      <td>0.097889</td>\n",
       "      <td>-1.279104</td>\n",
       "      <td>-1.442245</td>\n",
       "    </tr>\n",
       "  </tbody>\n",
       "</table>\n",
       "</div>"
      ],
      "text/plain": [
       "   Sepal.Length  Sepal.Width  Petal.Length  Petal.Width\n",
       "0     -0.897674     1.015602     -1.335752    -1.311052\n",
       "1     -1.139200    -0.131539     -1.335752    -1.311052\n",
       "2     -1.380727     0.327318     -1.392399    -1.311052\n",
       "3     -1.501490     0.097889     -1.279104    -1.311052\n",
       "4     -1.018437     1.245030     -1.335752    -1.311052\n",
       "5     -0.535384     1.933315     -1.165809    -1.048667\n",
       "6     -1.501490     0.786174     -1.335752    -1.179859\n",
       "7     -1.018437     0.786174     -1.279104    -1.311052\n",
       "8     -1.743017    -0.360967     -1.335752    -1.311052\n",
       "9     -1.139200     0.097889     -1.279104    -1.442245"
      ]
     },
     "execution_count": 240,
     "metadata": {},
     "output_type": "execute_result"
    }
   ],
   "source": [
    "#import iris data into pandas dataframe.\n",
    "iris = sns.load_dataset(\"iris\")\n",
    "species = iris.pop(\"species\")\n",
    "iris_df = pd.DataFrame(iris)\n",
    "iris_df.columns = [\"Sepal.Length\", \"Sepal.Width\", \"Petal.Length\", \"Petal.Width\"]\n",
    "\n",
    "#normalized dataset\n",
    "iris_scale = (iris_df-iris_df.mean())/iris_df.std()\n",
    "iris_scale.head(10)\n",
    "\n"
   ]
  },
  {
   "cell_type": "code",
   "execution_count": 137,
   "metadata": {},
   "outputs": [
    {
     "name": "stdout",
     "output_type": "stream",
     "text": [
      "[[ 0.          1.1722914   0.84278401 ...,  3.79270577  3.81338223\n",
      "   3.32392896]\n",
      " [ 1.1722914   0.          0.52162552 ...,  3.73412795  4.00393113\n",
      "   3.20274689]\n",
      " [ 0.84278401  0.52162552  0.         ...,  3.92339738  4.05911739\n",
      "   3.36904951]\n",
      " ..., \n",
      " [ 3.79270577  3.73412795  3.92339738 ...,  0.          1.06826493\n",
      "   0.77270365]\n",
      " [ 3.81338223  4.00393113  4.05911739 ...,  1.06826493  0.          1.19692065]\n",
      " [ 3.32392896  3.20274689  3.36904951 ...,  0.77270365  1.19692065  0.        ]]\n"
     ]
    }
   ],
   "source": [
    "#calculate distance matrix\n",
    "distance = pdsist(iris_scale.values)\n",
    "print(distance)"
   ]
  },
  {
   "cell_type": "code",
   "execution_count": 241,
   "metadata": {},
   "outputs": [
    {
     "data": {
      "image/png": "[encoded data removed]",
      "text/plain": [
       "<matplotlib.figure.Figure at 0x7f9ca93d9630>"
      ]
     },
     "metadata": {},
     "output_type": "display_data"
    }
   ],
   "source": [
    "#plot clustermap\n",
    "lut = dict(zip(species.unique(), \"rbg\"))\n",
    "row_colors = species.map(lut)\n",
    "g = sns.clustermap(iris_df, row_colors=row_colors, z_score=1)\n",
    "g\n",
    "\n",
    "pass"
   ]
  },
  {
   "cell_type": "code",
   "execution_count": 242,
   "metadata": {},
   "outputs": [
    {
     "data": {
      "image/png": "[encoded data removed]",
      "text/plain": [
       "<matplotlib.figure.Figure at 0x7f9ca8920160>"
      ]
     },
     "metadata": {},
     "output_type": "display_data"
    }
   ],
   "source": [
    "#create factor plot\n",
    "iris = pd.DataFrame(sns.load_dataset(\"iris\"))\n",
    "iris.columns = [\"Sepal.Length\", \"Sepal.Width\", \"Petal.Length\", \"Petal.Width\", \"Species\"]\n",
    "df = pd.melt(iris,id_vars=['Species'])\n",
    "\n",
    "sns.factorplot(x='Species', y='value', col = 'variable', kind = \"box\",\n",
    "                   col_wrap=2, sharey=False, data=df)\n",
    "pass"
   ]
  },
  {
   "cell_type": "markdown",
   "metadata": {},
   "source": [
    "**4**. (50 points)\n",
    "\n",
    "This is an example of the messiness of real-life data munging, using a (truncated and randomized) data set provided by an HIV researcher. In this data set, HIV-positive subjects were tested for sexually transmitted infections (STI) at each visit (and treated if they were positive). \n",
    "\n",
    "You will probably need to review the `pandas` documentation and examples carefully to complete this exercise.\n",
    "\n",
    "The file 'hiv.csv' contains data the HIV subjects. The variables are\n",
    "\n",
    "- PID: A randomly generated patient ID\n",
    "- Race: The race of the subject as a single letter code\n",
    "- Age: The age of the subject at study entry\n",
    "- Visit Date: Date of visit at which STI data was collected\n",
    "- STIs: Type of STI detected if any\n",
    "\n",
    "The Race and Age of each subject are only recorded for the first visit.\n",
    "\n",
    "Objectives:\n",
    "\n",
    "- Read the data set into a `pandas` DataFrame (5)\n",
    "- Fill up the missing Race and Age values (5)\n",
    "- Reclassify the STIs into one of the following categories ('none', 'syphilis', 'chlamydia', 'gonorrhea', 'HCV',  NaN) by grouping in the obvious way. Note that 'none' means no infection and NaN (np.nan) means missing data. (10)\n",
    "- FInd the subject(s) with the most number of visits (how many are there?) (5)\n",
    "- Perform a chi-square test to see if an STI at the **first** visit is associated with the risk of an STI at **any** subsequent visit. You only need to do this for subjects who have more than 1 visit. You can use `from scipy.stats import chi2_contingency` to do the $\\chi^2$ test. (20)"
   ]
  },
  {
   "cell_type": "code",
   "execution_count": 243,
   "metadata": {},
   "outputs": [
    {
     "data": {
      "text/html": [
       "<div>\n",
       "<style scoped>\n",
       "    .dataframe tbody tr th:only-of-type {\n",
       "        vertical-align: middle;\n",
       "    }\n",
       "\n",
       "    .dataframe tbody tr th {\n",
       "        vertical-align: top;\n",
       "    }\n",
       "\n",
       "    .dataframe thead th {\n",
       "        text-align: right;\n",
       "    }\n",
       "</style>\n",
       "<table border=\"1\" class=\"dataframe\">\n",
       "  <thead>\n",
       "    <tr style=\"text-align: right;\">\n",
       "      <th></th>\n",
       "      <th>Unnamed: 0</th>\n",
       "      <th>PID</th>\n",
       "      <th>Race</th>\n",
       "      <th>Age</th>\n",
       "      <th>Visit Date</th>\n",
       "      <th>STIs</th>\n",
       "    </tr>\n",
       "  </thead>\n",
       "  <tbody>\n",
       "    <tr>\n",
       "      <th>0</th>\n",
       "      <td>0</td>\n",
       "      <td>9933</td>\n",
       "      <td>W</td>\n",
       "      <td>61.0</td>\n",
       "      <td>2013-12-24</td>\n",
       "      <td>none</td>\n",
       "    </tr>\n",
       "    <tr>\n",
       "      <th>1</th>\n",
       "      <td>1</td>\n",
       "      <td>9933</td>\n",
       "      <td>NaN</td>\n",
       "      <td>NaN</td>\n",
       "      <td>2015-07-18</td>\n",
       "      <td>none</td>\n",
       "    </tr>\n",
       "    <tr>\n",
       "      <th>2</th>\n",
       "      <td>2</td>\n",
       "      <td>9933</td>\n",
       "      <td>NaN</td>\n",
       "      <td>NaN</td>\n",
       "      <td>2016-01-23</td>\n",
       "      <td>none</td>\n",
       "    </tr>\n",
       "    <tr>\n",
       "      <th>3</th>\n",
       "      <td>3</td>\n",
       "      <td>9933</td>\n",
       "      <td>NaN</td>\n",
       "      <td>NaN</td>\n",
       "      <td>2013-10-14</td>\n",
       "      <td>syphilis</td>\n",
       "    </tr>\n",
       "    <tr>\n",
       "      <th>4</th>\n",
       "      <td>4</td>\n",
       "      <td>9933</td>\n",
       "      <td>NaN</td>\n",
       "      <td>NaN</td>\n",
       "      <td>2013-12-23</td>\n",
       "      <td>none</td>\n",
       "    </tr>\n",
       "    <tr>\n",
       "      <th>5</th>\n",
       "      <td>5</td>\n",
       "      <td>9933</td>\n",
       "      <td>NaN</td>\n",
       "      <td>NaN</td>\n",
       "      <td>2014-06-30</td>\n",
       "      <td>none</td>\n",
       "    </tr>\n",
       "    <tr>\n",
       "      <th>6</th>\n",
       "      <td>6</td>\n",
       "      <td>9933</td>\n",
       "      <td>NaN</td>\n",
       "      <td>NaN</td>\n",
       "      <td>2018-03-10</td>\n",
       "      <td>syphilis</td>\n",
       "    </tr>\n",
       "    <tr>\n",
       "      <th>7</th>\n",
       "      <td>7</td>\n",
       "      <td>9631</td>\n",
       "      <td>A</td>\n",
       "      <td>69.0</td>\n",
       "      <td>2015-07-28</td>\n",
       "      <td>none</td>\n",
       "    </tr>\n",
       "    <tr>\n",
       "      <th>8</th>\n",
       "      <td>8</td>\n",
       "      <td>9631</td>\n",
       "      <td>NaN</td>\n",
       "      <td>NaN</td>\n",
       "      <td>2015-12-26</td>\n",
       "      <td>none</td>\n",
       "    </tr>\n",
       "    <tr>\n",
       "      <th>9</th>\n",
       "      <td>9</td>\n",
       "      <td>9631</td>\n",
       "      <td>NaN</td>\n",
       "      <td>NaN</td>\n",
       "      <td>2016-07-02</td>\n",
       "      <td>none</td>\n",
       "    </tr>\n",
       "  </tbody>\n",
       "</table>\n",
       "</div>"
      ],
      "text/plain": [
       "   Unnamed: 0   PID Race   Age  Visit Date      STIs\n",
       "0           0  9933    W  61.0  2013-12-24      none\n",
       "1           1  9933  NaN   NaN  2015-07-18      none\n",
       "2           2  9933  NaN   NaN  2016-01-23      none\n",
       "3           3  9933  NaN   NaN  2013-10-14  syphilis\n",
       "4           4  9933  NaN   NaN  2013-12-23      none\n",
       "5           5  9933  NaN   NaN  2014-06-30      none\n",
       "6           6  9933  NaN   NaN  2018-03-10  syphilis\n",
       "7           7  9631    A  69.0  2015-07-28      none\n",
       "8           8  9631  NaN   NaN  2015-12-26      none\n",
       "9           9  9631  NaN   NaN  2016-07-02      none"
      ]
     },
     "execution_count": 243,
     "metadata": {},
     "output_type": "execute_result"
    }
   ],
   "source": [
    "#read data\n",
    "df = pd.read_csv(\"data/hiv.csv\")\n",
    "df.head(10)"
   ]
  },
  {
   "cell_type": "code",
   "execution_count": 244,
   "metadata": {},
   "outputs": [
    {
     "data": {
      "text/html": [
       "<div>\n",
       "<style scoped>\n",
       "    .dataframe tbody tr th:only-of-type {\n",
       "        vertical-align: middle;\n",
       "    }\n",
       "\n",
       "    .dataframe tbody tr th {\n",
       "        vertical-align: top;\n",
       "    }\n",
       "\n",
       "    .dataframe thead th {\n",
       "        text-align: right;\n",
       "    }\n",
       "</style>\n",
       "<table border=\"1\" class=\"dataframe\">\n",
       "  <thead>\n",
       "    <tr style=\"text-align: right;\">\n",
       "      <th></th>\n",
       "      <th>Unnamed: 0</th>\n",
       "      <th>PID</th>\n",
       "      <th>Race</th>\n",
       "      <th>Age</th>\n",
       "      <th>Visit Date</th>\n",
       "      <th>STIs</th>\n",
       "    </tr>\n",
       "  </thead>\n",
       "  <tbody>\n",
       "    <tr>\n",
       "      <th>0</th>\n",
       "      <td>0</td>\n",
       "      <td>9933</td>\n",
       "      <td>W</td>\n",
       "      <td>61.0</td>\n",
       "      <td>2013-12-24</td>\n",
       "      <td>none</td>\n",
       "    </tr>\n",
       "    <tr>\n",
       "      <th>1</th>\n",
       "      <td>1</td>\n",
       "      <td>9933</td>\n",
       "      <td>W</td>\n",
       "      <td>61.0</td>\n",
       "      <td>2015-07-18</td>\n",
       "      <td>none</td>\n",
       "    </tr>\n",
       "    <tr>\n",
       "      <th>2</th>\n",
       "      <td>2</td>\n",
       "      <td>9933</td>\n",
       "      <td>W</td>\n",
       "      <td>61.0</td>\n",
       "      <td>2016-01-23</td>\n",
       "      <td>none</td>\n",
       "    </tr>\n",
       "    <tr>\n",
       "      <th>3</th>\n",
       "      <td>3</td>\n",
       "      <td>9933</td>\n",
       "      <td>W</td>\n",
       "      <td>61.0</td>\n",
       "      <td>2013-10-14</td>\n",
       "      <td>syphilis</td>\n",
       "    </tr>\n",
       "    <tr>\n",
       "      <th>4</th>\n",
       "      <td>4</td>\n",
       "      <td>9933</td>\n",
       "      <td>W</td>\n",
       "      <td>61.0</td>\n",
       "      <td>2013-12-23</td>\n",
       "      <td>none</td>\n",
       "    </tr>\n",
       "    <tr>\n",
       "      <th>5</th>\n",
       "      <td>5</td>\n",
       "      <td>9933</td>\n",
       "      <td>W</td>\n",
       "      <td>61.0</td>\n",
       "      <td>2014-06-30</td>\n",
       "      <td>none</td>\n",
       "    </tr>\n",
       "    <tr>\n",
       "      <th>6</th>\n",
       "      <td>6</td>\n",
       "      <td>9933</td>\n",
       "      <td>W</td>\n",
       "      <td>61.0</td>\n",
       "      <td>2018-03-10</td>\n",
       "      <td>syphilis</td>\n",
       "    </tr>\n",
       "    <tr>\n",
       "      <th>7</th>\n",
       "      <td>7</td>\n",
       "      <td>9631</td>\n",
       "      <td>A</td>\n",
       "      <td>69.0</td>\n",
       "      <td>2015-07-28</td>\n",
       "      <td>none</td>\n",
       "    </tr>\n",
       "    <tr>\n",
       "      <th>8</th>\n",
       "      <td>8</td>\n",
       "      <td>9631</td>\n",
       "      <td>A</td>\n",
       "      <td>69.0</td>\n",
       "      <td>2015-12-26</td>\n",
       "      <td>none</td>\n",
       "    </tr>\n",
       "    <tr>\n",
       "      <th>9</th>\n",
       "      <td>9</td>\n",
       "      <td>9631</td>\n",
       "      <td>A</td>\n",
       "      <td>69.0</td>\n",
       "      <td>2016-07-02</td>\n",
       "      <td>none</td>\n",
       "    </tr>\n",
       "  </tbody>\n",
       "</table>\n",
       "</div>"
      ],
      "text/plain": [
       "   Unnamed: 0   PID Race   Age  Visit Date      STIs\n",
       "0           0  9933    W  61.0  2013-12-24      none\n",
       "1           1  9933    W  61.0  2015-07-18      none\n",
       "2           2  9933    W  61.0  2016-01-23      none\n",
       "3           3  9933    W  61.0  2013-10-14  syphilis\n",
       "4           4  9933    W  61.0  2013-12-23      none\n",
       "5           5  9933    W  61.0  2014-06-30      none\n",
       "6           6  9933    W  61.0  2018-03-10  syphilis\n",
       "7           7  9631    A  69.0  2015-07-28      none\n",
       "8           8  9631    A  69.0  2015-12-26      none\n",
       "9           9  9631    A  69.0  2016-07-02      none"
      ]
     },
     "execution_count": 244,
     "metadata": {},
     "output_type": "execute_result"
    }
   ],
   "source": [
    "#fill up missing race and Age value\n",
    "df['Race'] = df['Race'].fillna(method = \"pad\")\n",
    "df['Age'] = df['Age'].fillna(method = \"pad\")\n",
    "df.head(10)"
   ]
  },
  {
   "cell_type": "code",
   "execution_count": 245,
   "metadata": {},
   "outputs": [
    {
     "data": {
      "text/plain": [
       "{'HCV', 'chlamydia', 'gonorrhea', nan, 'none', 'syphilis'}"
      ]
     },
     "execution_count": 245,
     "metadata": {},
     "output_type": "execute_result"
    }
   ],
   "source": [
    "#rename categories of STIs\n",
    "df[\"STIs\"] = df[\"STIs\"].str.split('-').str[0]\n",
    "df[\"STIs\"].replace('None', 'none', inplace=True)\n",
    "set(df[\"STIs\"])"
   ]
  },
  {
   "cell_type": "code",
   "execution_count": 246,
   "metadata": {},
   "outputs": [
    {
     "data": {
      "text/plain": [
       "PID           9996\n",
       "Visit Date      16\n",
       "dtype: int64"
      ]
     },
     "execution_count": 246,
     "metadata": {},
     "output_type": "execute_result"
    }
   ],
   "source": [
    "#find the subjects with most number of visits\n",
    "count = df[['PID','Visit Date']].groupby('PID', as_index = False).agg('count')\n",
    "count.max()"
   ]
  },
  {
   "cell_type": "code",
   "execution_count": 247,
   "metadata": {},
   "outputs": [],
   "source": [
    "from scipy.stats import chi2_contingency\n",
    "df[\"Visit Date\"] =pd.to_datetime(df[\"Visit Date\"])\n",
    "df = df.sort_values(by=['PID', 'Visit Date'], ascending=[True, True])\n",
    "#remove observations with missing value in STIs and drop observationw with only one visit\n",
    "df = df[df['STIs'].notnull()]\n",
    "df = df[df.PID.isin(count.PID[count['Visit Date']>1])]\n",
    "df['boolean'] = np.where(df['STIs']=='none', 0, 1)"
   ]
  },
  {
   "cell_type": "code",
   "execution_count": 248,
   "metadata": {},
   "outputs": [
    {
     "data": {
      "text/plain": [
       "array([[90, 18],\n",
       "       [14, 22]])"
      ]
     },
     "execution_count": 248,
     "metadata": {},
     "output_type": "execute_result"
    }
   ],
   "source": [
    "#construct contigency table\n",
    "crosstable = np.array([[0,0],[0,0]])\n",
    "for i in set(df.PID.tolist()):\n",
    "    crosstable[int(df[df.PID == i].boolean.tolist()[0] > 0),\n",
    "           int(sum(df[df.PID == i].boolean.tolist()[1:]) > 0)] += 1\n",
    "crosstable"
   ]
  },
  {
   "cell_type": "code",
   "execution_count": 249,
   "metadata": {},
   "outputs": [
    {
     "data": {
      "text/plain": [
       "(24.415384615384617, 7.7646147686769707e-07, 1, array([[ 78.,  30.],\n",
       "        [ 26.,  10.]]))"
      ]
     },
     "execution_count": 249,
     "metadata": {},
     "output_type": "execute_result"
    }
   ],
   "source": [
    "#perform chi-square test\n",
    "chi2, p, dof, expected = chi2_contingency(crosstable)\n",
    "chi2, p, dof, expected"
   ]
  },
  {
   "cell_type": "code",
   "execution_count": 250,
   "metadata": {},
   "outputs": [],
   "source": [
    "#based on the p-value, we conclude that if an STI at the first visit is associated with \n",
    "#the risk of an STI at any subsequent visit"
   ]
  }
 ],
 "metadata": {
  "kernelspec": {
   "display_name": "Python 3",
   "language": "python",
   "name": "python3"
  },
  "language_info": {
   "codemirror_mode": {
    "name": "ipython",
    "version": 3
   },
   "file_extension": ".py",
   "mimetype": "text/x-python",
   "name": "python",
   "nbconvert_exporter": "python",
   "pygments_lexer": "ipython3",
   "version": "3.6.3"
  }
 },
 "nbformat": 4,
 "nbformat_minor": 2
}
