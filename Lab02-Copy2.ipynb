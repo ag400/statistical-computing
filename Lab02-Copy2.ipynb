{
 "cells": [
  {
   "cell_type": "markdown",
   "metadata": {},
   "source": [
    "**Brief Honor Code**. Do the homework on your own. You may discuss ideas with your classmates, but DO NOT copy the solutions from someone else or the Internet. If stuck, discuss with TA."
   ]
  },
  {
   "cell_type": "markdown",
   "metadata": {},
   "source": [
    "**1**. (10 points) \n",
    "\n",
    "Rewrite the following code into functional form using lambdas, map, filter and reduce."
   ]
  },
  {
   "cell_type": "code",
   "execution_count": 1,
   "metadata": {},
   "outputs": [
    {
     "data": {
      "text/plain": [
       "123"
      ]
     },
     "execution_count": 1,
     "metadata": {},
     "output_type": "execute_result"
    }
   ],
   "source": [
    "n = 10\n",
    "s = 10\n",
    "for i in range(n):\n",
    "    if i % 2:\n",
    "        s |= i**2\n",
    "s"
   ]
  },
  {
   "cell_type": "code",
   "execution_count": 2,
   "metadata": {},
   "outputs": [
    {
     "data": {
      "text/plain": [
       "123"
      ]
     },
     "execution_count": 2,
     "metadata": {},
     "output_type": "execute_result"
    }
   ],
   "source": [
    "from functools import reduce\n",
    "reduce(lambda x,y: x|y, map(lambda x:x**2, filter(lambda x:x % 2, range(10))), 10)"
   ]
  },
  {
   "cell_type": "markdown",
   "metadata": {},
   "source": [
    "**2**. (10 points)\n",
    "\n",
    "Rewrite the code above as a `toolz` pipeline, using lambdas and curried or partially applied functions as necessary."
   ]
  },
  {
   "cell_type": "code",
   "execution_count": 11,
   "metadata": {},
   "outputs": [
    {
     "data": {
      "text/plain": [
       "123"
      ]
     },
     "execution_count": 11,
     "metadata": {},
     "output_type": "execute_result"
    }
   ],
   "source": [
    "from toolz.curried import pipe, map, filter, reduce, accumulate\n",
    "from functools import partial\n",
    "\n",
    "op = partial(accumulate, initial = 10)\n",
    "res = pipe(range(10), filter(lambda x: x%2),\n",
    "           map(lambda x:x**2),\n",
    "           op(lambda x, y: x|y),\n",
    "           list,\n",
    "           lambda x:x[-1])\n",
    "res"
   ]
  },
  {
   "cell_type": "markdown",
   "metadata": {},
   "source": [
    "**3**. (10 points) \n",
    "\n",
    "Repeat the Buffon's needle simulation from Lab01 as a function that takes the number of needels `n` as input and returns the estimate of $\\pi$. The function should use `numpy` and vectorization.  What is $\\pi$ for 1 million needles?"
   ]
  },
  {
   "cell_type": "code",
   "execution_count": 23,
   "metadata": {},
   "outputs": [
    {
     "name": "stdout",
     "output_type": "stream",
     "text": [
      "3.141128\n"
     ]
    }
   ],
   "source": [
    "import numpy as np\n",
    "import random \n",
    "#perform Monte Carlo simulation considering the simplest case: L=D\n",
    "def Buffon_needle(n):\n",
    "    '''This function return the pi\n",
    "    with input as needles dropped on the lines n\n",
    "    '''\n",
    "    a = np.random.uniform(0, 1, n)\n",
    "    b = np.random.uniform(0, 1, n)\n",
    "    c = np.sqrt(a**2 + b**2)\n",
    "    \n",
    "    return c[c<1].shape[0]/n*4\n",
    "\n",
    "random.seed(123)\n",
    "print(Buffon_needle(1000000))\n"
   ]
  },
  {
   "cell_type": "markdown",
   "metadata": {},
   "source": [
    "**4**. (20 points) \n",
    "\n",
    "Simpsons rule is given by the follwoing approximation\n",
    "\n",
    "![Simpsons](https://wikimedia.org/api/rest_v1/media/math/render/svg/a0cdf0804bb8810e4438cbea898dc7a2fedb3e57)\n",
    "\n",
    "- Write Simpsons rule as a function `simpsons(f, a, b, n=100)` where n is the number of equally spaced intervals from `a` to `b`.  (10 points)\n",
    "- Use this function to estimate the probability mass of the standard normal distribution between -1 and 1. Implement the PDF of the standard normal distribution $\\psi(x)$ as a function. (10 points)\n",
    "\n",
    "$$\n",
    "\\psi(x) = \\frac{1}{\\sqrt{2\\pi}}e^{-\\frac{1}{2}x^2}\n",
    "$$"
   ]
  },
  {
   "cell_type": "code",
   "execution_count": 14,
   "metadata": {},
   "outputs": [
    {
     "data": {
      "text/plain": [
       "0.68268949299754922"
      ]
     },
     "execution_count": 14,
     "metadata": {},
     "output_type": "execute_result"
    }
   ],
   "source": [
    "from scipy.stats import norm\n",
    "from math import sin, pi\n",
    "\n",
    "#function for simpsons approximation\n",
    "def simpsons(f, a, b, n = 100):\n",
    "    \"\"\"using a, b, n, and f to \n",
    "    perform Simpsons Approximation\n",
    "    \"\"\"\n",
    "    h = (b-a)/float(n)\n",
    "    sum1 = 0.0\n",
    "    sum2 = 0.0\n",
    "    for i in range(1,n//2):\n",
    "        sum1 += f(a + 2*i*h)\n",
    "    sum1 *=2\n",
    "    \n",
    "    for i in range(1,n//2 + 1):\n",
    "        sum2 += f(a + (2*i - 1)*h)\n",
    "    sum2 *=4\n",
    "\n",
    "    return (h/3)*(f(a)+f(b)+sum1+sum2)\n",
    "\n",
    "#print out the probability mass of the standard normal distribution\n",
    "simpsons(norm.pdf, -1, 1, n = 100)"
   ]
  },
  {
   "cell_type": "markdown",
   "metadata": {},
   "source": [
    "**5**. (50 points)\n",
    "\n",
    "Write code to generate a plot similar to the following \n",
    "\n",
    "![automata](./automata1d.png)\n",
    "\n",
    "using the explanation for generation of 1D Cellular Automata found [here](http://mathworld.wolfram.com/ElementaryCellularAutomaton.html). You should only need to use standard Python, `numpy` and `matplotllib`.\n",
    "\n",
    "The input to the function making the plots should be a simple list of rules\n",
    "\n",
    "```python\n",
    "rules = [30, 54, 60, 62, 90, 94, 102, 110, 122, 126, \n",
    "         150, 158, 182, 188, 190, 220, 222, 250]\n",
    "make_plots(rules, niter, ncols)\n",
    "```\n",
    "\n",
    "You may, of course, write other helper functions to keep your code modular."
   ]
  },
  {
   "cell_type": "code",
   "execution_count": 4,
   "metadata": {},
   "outputs": [],
   "source": [
    "%matplotlib inline"
   ]
  },
  {
   "cell_type": "code",
   "execution_count": 5,
   "metadata": {},
   "outputs": [
    {
     "data": {
      "image/png": "[encoded data removed]",
      "text/plain": [
       "<matplotlib.figure.Figure at 0x7f758c4536a0>"
      ]
     },
     "metadata": {},
     "output_type": "display_data"
    }
   ],
   "source": [
    "import matplotlib.pyplot as plt\n",
    "import numpy as np\n",
    "from matplotlib import colors\n",
    "\n",
    "##helper methods\n",
    "#this method returns rule\n",
    "def generate_rule(rule):\n",
    "    rule_str = format(rule, '#010b')[2:]\n",
    "\n",
    "    rule = {\n",
    "        (1, 1, 1): int(rule_str[0]) ,\n",
    "        (1, 1, 0): int(rule_str[1]) ,\n",
    "        (1, 0, 1): int(rule_str[2]) ,\n",
    "        (1, 0, 0): int(rule_str[3]) ,\n",
    "        (0, 1, 1): int(rule_str[4]) ,\n",
    "        (0, 1, 0): int(rule_str[5]) ,\n",
    "        (0, 0, 1): int(rule_str[6]) ,\n",
    "        (0, 0, 0): int(rule_str[7]) \n",
    "    }\n",
    "\n",
    "    return rule\n",
    "\n",
    "#generate first row\n",
    "def generate_initial_state(ncols = 31, niters = 16):\n",
    "    grid = np.zeros(shape=(niters, ncols))\n",
    "    grid[0, ncols//2+1] = 1\n",
    "    \n",
    "    return grid\n",
    "\n",
    "#apply rules to generate next generation\n",
    "def process(generation, rule):\n",
    "    new_generation = []\n",
    "\n",
    "    for i, cell in enumerate(generation):\n",
    "        neighbours = []\n",
    "        if i == 0:\n",
    "            neighbours = [generation[len(generation) - 1], cell, generation[1]]\n",
    "        elif i == len(generation) - 1:\n",
    "            neighbours = [generation[len(generation) - 2], cell, generation[0]]\n",
    "        else:\n",
    "            neighbours = [generation[i - 1], cell, generation[i + 1]]\n",
    "\n",
    "        new_generation.append(rule[tuple(neighbours)])\n",
    "\n",
    "    return new_generation\n",
    "\n",
    "#create graphs    \n",
    "def make_plots(ncols, niters, rule):\n",
    "    fig = plt.figure(figsize = (12, 24))\n",
    "    for j in range(len(rule)):\n",
    "        initial_state = generate_initial_state(ncols, niters)\n",
    "        rules = generate_rule(rule[j])\n",
    "        #update the grid by rules\n",
    "        for i in range(1, niters):\n",
    "            initial_state[i] = process(initial_state[i-1], rules)\n",
    "          \n",
    "        #plot the grid using matplotlib\n",
    "        ax = fig.add_subplot(6, 3, j+1)\n",
    "        plt.title('Rule %d' % rule[j], fontsize=14)\n",
    "        plt.imshow(initial_state, interpolation='nearest', cmap='Greys') \n",
    "        plt.grid(color='Grey')\n",
    "        ax.set_xticks(np.arange(-0.5, 2 * niters + 0.5, 1))\n",
    "        ax.set_yticks(np.arange(-0.5, niters + 0.5, 1))       \n",
    "        ax.tick_params(axis='both', which='both',bottom='off', top='off', left = 'off', \n",
    "                       labelbottom='off', labelright = 'off', labelleft='off') \n",
    "        pass\n",
    "\n",
    "\n",
    "#generate graphs based on a list of rules\n",
    "rules = [30, 54, 60, 62, 90, 94, 102, 110, 122, 126, \n",
    "         150, 158, 182, 188, 190, 220, 222, 250]\n",
    "make_plots(41, 20, rules)\n",
    "\n"
   ]
  },
  {
   "cell_type": "code",
   "execution_count": null,
   "metadata": {},
   "outputs": [],
   "source": []
  }
 ],
 "metadata": {
  "kernelspec": {
   "display_name": "Python 3",
   "language": "python",
   "name": "python3"
  },
  "language_info": {
   "codemirror_mode": {
    "name": "ipython",
    "version": 3
   },
   "file_extension": ".py",
   "mimetype": "text/x-python",
   "name": "python",
   "nbconvert_exporter": "python",
   "pygments_lexer": "ipython3",
   "version": "3.6.3"
  }
 },
 "nbformat": 4,
 "nbformat_minor": 2
}
